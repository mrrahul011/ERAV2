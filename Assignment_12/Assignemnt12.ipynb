{
  "cells": [
    {
      "cell_type": "markdown",
      "source": [
        "# Clone the repo"
      ],
      "metadata": {
        "id": "QpQDdjsiHtdF"
      }
    },
    {
      "cell_type": "code",
      "execution_count": null,
      "metadata": {
        "colab": {
          "base_uri": "https://localhost:8080/"
        },
        "id": "NPWtvace3Y0C",
        "outputId": "a99d2cae-ea4f-421c-9f53-f7370e7749a7"
      },
      "outputs": [
        {
          "name": "stdout",
          "output_type": "stream",
          "text": [
            "Cloning into 'YoloV3'...\n",
            "remote: Enumerating objects: 159, done.\u001b[K\n",
            "remote: Counting objects: 100% (3/3), done.\u001b[K\n",
            "remote: Compressing objects: 100% (3/3), done.\u001b[K\n",
            "remote: Total 159 (delta 0), reused 1 (delta 0), pack-reused 156\u001b[K\n",
            "Receiving objects: 100% (159/159), 12.75 MiB | 10.28 MiB/s, done.\n",
            "Resolving deltas: 100% (7/7), done.\n"
          ]
        }
      ],
      "source": [
        "!git clone https://github.com/theschoolofai/YoloV3.git\n"
      ]
    },
    {
      "cell_type": "markdown",
      "source": [
        "# connect to google drive"
      ],
      "metadata": {
        "id": "tVzdVK-dHyj2"
      }
    },
    {
      "cell_type": "code",
      "execution_count": 1,
      "metadata": {
        "colab": {
          "base_uri": "https://localhost:8080/"
        },
        "id": "iZO9ZBtb_ysm",
        "outputId": "d4b832c6-0f83-4d46-d8bc-240ea1451dd7"
      },
      "outputs": [
        {
          "output_type": "stream",
          "name": "stdout",
          "text": [
            "Mounted at /content/drive\n"
          ]
        }
      ],
      "source": [
        "from google.colab import drive\n",
        "drive.mount('/content/drive')"
      ]
    },
    {
      "cell_type": "markdown",
      "source": [
        "# copy the coloned repo to desired path"
      ],
      "metadata": {
        "id": "KnuDDvz4H40o"
      }
    },
    {
      "cell_type": "code",
      "execution_count": null,
      "metadata": {
        "id": "sOLEflw7_3he"
      },
      "outputs": [],
      "source": [
        "!cp -r /content/YoloV3 /content/drive/MyDrive/ERA_V2/Assignment12"
      ]
    },
    {
      "cell_type": "markdown",
      "source": [
        "# change the working directorty"
      ],
      "metadata": {
        "id": "OW1KudaqH-C2"
      }
    },
    {
      "cell_type": "code",
      "execution_count": 3,
      "metadata": {
        "colab": {
          "base_uri": "https://localhost:8080/"
        },
        "id": "pYfFSAvc3zde",
        "outputId": "707b5faf-96c0-4c11-f30b-c4435d61d73c"
      },
      "outputs": [
        {
          "output_type": "stream",
          "name": "stdout",
          "text": [
            "/content/drive/MyDrive/ERA_V2/Assignment12/YoloV3\n"
          ]
        }
      ],
      "source": [
        "%cd /content/drive/MyDrive/ERA_V2/Assignment12/YoloV3\n"
      ]
    },
    {
      "cell_type": "markdown",
      "source": [
        "# download the pretrained weights"
      ],
      "metadata": {
        "id": "gEnQcWasICZU"
      }
    },
    {
      "cell_type": "code",
      "execution_count": null,
      "metadata": {
        "colab": {
          "base_uri": "https://localhost:8080/",
          "height": 339
        },
        "id": "YtwTrgvP4UGu",
        "outputId": "7738c5bc-7234-47c2-c080-bd276dbf27fe"
      },
      "outputs": [
        {
          "name": "stdout",
          "output_type": "stream",
          "text": [
            "Requirement already satisfied: gdown in /usr/local/lib/python3.10/dist-packages (4.7.3)\n",
            "Requirement already satisfied: filelock in /usr/local/lib/python3.10/dist-packages (from gdown) (3.13.4)\n",
            "Requirement already satisfied: requests[socks] in /usr/local/lib/python3.10/dist-packages (from gdown) (2.31.0)\n",
            "Requirement already satisfied: six in /usr/local/lib/python3.10/dist-packages (from gdown) (1.16.0)\n",
            "Requirement already satisfied: tqdm in /usr/local/lib/python3.10/dist-packages (from gdown) (4.66.2)\n",
            "Requirement already satisfied: beautifulsoup4 in /usr/local/lib/python3.10/dist-packages (from gdown) (4.12.3)\n",
            "Requirement already satisfied: soupsieve>1.2 in /usr/local/lib/python3.10/dist-packages (from beautifulsoup4->gdown) (2.5)\n",
            "Requirement already satisfied: charset-normalizer<4,>=2 in /usr/local/lib/python3.10/dist-packages (from requests[socks]->gdown) (3.3.2)\n",
            "Requirement already satisfied: idna<4,>=2.5 in /usr/local/lib/python3.10/dist-packages (from requests[socks]->gdown) (3.6)\n",
            "Requirement already satisfied: urllib3<3,>=1.21.1 in /usr/local/lib/python3.10/dist-packages (from requests[socks]->gdown) (2.0.7)\n",
            "Requirement already satisfied: certifi>=2017.4.17 in /usr/local/lib/python3.10/dist-packages (from requests[socks]->gdown) (2024.2.2)\n",
            "Requirement already satisfied: PySocks!=1.5.7,>=1.5.6 in /usr/local/lib/python3.10/dist-packages (from requests[socks]->gdown) (1.7.1)\n"
          ]
        },
        {
          "name": "stderr",
          "output_type": "stream",
          "text": [
            "Downloading...\n",
            "From (original): https://drive.google.com/uc?id=1vRDkpAiNdqHORTUImkrpD7kK_DkCcMus\n",
            "From (redirected): https://drive.google.com/uc?id=1vRDkpAiNdqHORTUImkrpD7kK_DkCcMus&confirm=t&uuid=e918df7b-8bdf-434c-b032-cb33feb0ee66\n",
            "To: /content/drive/MyDrive/ERA_V2/Assignment12/YoloV3/weights/yolov3-spp-ultralytics.pt\n",
            "100%|██████████| 252M/252M [00:02<00:00, 91.8MB/s]\n"
          ]
        },
        {
          "data": {
            "application/vnd.google.colaboratory.intrinsic+json": {
              "type": "string"
            },
            "text/plain": [
              "'/content/drive/MyDrive/ERA_V2/Assignment12/YoloV3/weights/yolov3-spp-ultralytics.pt'"
            ]
          },
          "execution_count": 22,
          "metadata": {},
          "output_type": "execute_result"
        }
      ],
      "source": [
        "!pip install gdown\n",
        "\n",
        "import gdown\n",
        "\n",
        "# File ID from the provided Google Drive link\n",
        "file_id = '1vRDkpAiNdqHORTUImkrpD7kK_DkCcMus'\n",
        "\n",
        "# Google Drive URL\n",
        "url = f'https://drive.google.com/uc?id={file_id}'\n",
        "\n",
        "# Download the file and save it in the YoloV3/weights directory\n",
        "output_path = '/content/drive/MyDrive/ERA_V2/Assignment12/YoloV3/weights/yolov3-spp-ultralytics.pt'\n",
        "gdown.download(url, output_path, quiet=False)\n"
      ]
    },
    {
      "cell_type": "markdown",
      "source": [
        "# train the model"
      ],
      "metadata": {
        "id": "W0tksQ2zIGVj"
      }
    },
    {
      "cell_type": "code",
      "source": [
        "!python train.py --data data/customdata/custom.data --batch 10 --cache --cfg cfg/yolov3-custom.cfg --epochs 20 --nosave"
      ],
      "metadata": {
        "id": "vF0Cv3D3AVM1",
        "colab": {
          "base_uri": "https://localhost:8080/"
        },
        "outputId": "0db144fd-0b0c-4831-d18b-53b2475b3eb1"
      },
      "execution_count": 5,
      "outputs": [
        {
          "output_type": "stream",
          "name": "stdout",
          "text": [
            "Namespace(epochs=20, batch_size=10, accumulate=4, cfg='cfg/yolov3-custom.cfg', data='data/customdata/custom.data', multi_scale=False, img_size=[512], rect=False, resume=False, nosave=True, notest=False, evolve=False, bucket='', cache_images=True, weights='weights/yolov3-spp-ultralytics.pt', name='', device='', adam=False, single_cls=False)\n",
            "Using CUDA device0 _CudaDeviceProperties(name='Tesla T4', total_memory=15102MB)\n",
            "\n",
            "2024-04-22 07:59:26.906980: E external/local_xla/xla/stream_executor/cuda/cuda_dnn.cc:9261] Unable to register cuDNN factory: Attempting to register factory for plugin cuDNN when one has already been registered\n",
            "2024-04-22 07:59:26.907032: E external/local_xla/xla/stream_executor/cuda/cuda_fft.cc:607] Unable to register cuFFT factory: Attempting to register factory for plugin cuFFT when one has already been registered\n",
            "2024-04-22 07:59:26.908398: E external/local_xla/xla/stream_executor/cuda/cuda_blas.cc:1515] Unable to register cuBLAS factory: Attempting to register factory for plugin cuBLAS when one has already been registered\n",
            "2024-04-22 07:59:28.053152: W tensorflow/compiler/tf2tensorrt/utils/py_utils.cc:38] TF-TRT Warning: Could not find TensorRT\n",
            "Run 'tensorboard --logdir=runs' to view tensorboard at http://localhost:6006/\n",
            "WARNING: smart bias initialization failure.\n",
            "WARNING: smart bias initialization failure.\n",
            "WARNING: smart bias initialization failure.\n",
            "Model Summary: 225 layers, 6.25733e+07 parameters, 6.25733e+07 gradients\n",
            "Caching labels (96 found, 4 missing, 0 empty, 0 duplicate, for 100 images): 100% 100/100 [00:00<00:00, 481.07it/s]\n",
            "Caching images (0.1GB): 100% 100/100 [00:00<00:00, 183.04it/s]\n",
            "Caching labels (96 found, 4 missing, 0 empty, 0 duplicate, for 100 images): 100% 100/100 [00:00<00:00, 439.00it/s]\n",
            "Caching images (0.0GB): 100% 100/100 [00:00<00:00, 201.39it/s]\n",
            "Image sizes 512 - 512 train, 512 test\n",
            "Using 2 dataloader workers\n",
            "Starting training for 20 epochs...\n",
            "\n",
            "     Epoch   gpu_mem      GIoU       obj       cls     total   targets  img_size\n",
            "/usr/lib/python3.10/multiprocessing/popen_fork.py:66: RuntimeWarning: os.fork() was called. os.fork() is incompatible with multithreaded code, and JAX is multithreaded, so this will likely lead to a deadlock.\n",
            "  self.pid = os.fork()\n",
            "  0% 0/10 [00:00<?, ?it/s]/content/drive/MyDrive/ERA_V2/Assignment12/YoloV3/utils/utils.py:374: UserWarning: The torch.cuda.*DtypeTensor constructors are no longer recommended. It's best to use methods such as torch.tensor(data, dtype=*, device='cuda') to create tensors. (Triggered internally at ../torch/csrc/tensor/python_tensor.cpp:83.)\n",
            "  lcls, lbox, lobj = ft([0]), ft([0]), ft([0])\n",
            "/usr/local/lib/python3.10/dist-packages/torch/cuda/memory.py:440: FutureWarning: torch.cuda.memory_cached has been renamed to torch.cuda.memory_reserved\n",
            "  warnings.warn(\n",
            "      0/19     7.74G      5.04       161         0       166        11       512:  10% 1/10 [00:05<00:53,  5.93s/it]/usr/local/lib/python3.10/dist-packages/torch/cuda/memory.py:440: FutureWarning: torch.cuda.memory_cached has been renamed to torch.cuda.memory_reserved\n",
            "  warnings.warn(\n",
            "      0/19     7.74G      7.72      80.4         0      88.1        10       512: 100% 10/10 [00:13<00:00,  1.34s/it]\n",
            "/usr/local/lib/python3.10/dist-packages/torch/functional.py:507: UserWarning: torch.meshgrid: in an upcoming release, it will be required to pass the indexing argument. (Triggered internally at ../aten/src/ATen/native/TensorShape.cpp:3549.)\n",
            "  return _VF.meshgrid(tensors, **kwargs)  # type: ignore[attr-defined]\n",
            "               Class    Images   Targets         P         R   mAP@0.5        F1:   0% 0/10 [00:00<?, ?it/s]/usr/lib/python3.10/multiprocessing/popen_fork.py:66: RuntimeWarning: os.fork() was called. os.fork() is incompatible with multithreaded code, and JAX is multithreaded, so this will likely lead to a deadlock.\n",
            "  self.pid = os.fork()\n",
            "               Class    Images   Targets         P         R   mAP@0.5        F1: 100% 10/10 [00:05<00:00,  1.70it/s]\n",
            "                 all       100       100   0.00168      0.07   0.00105   0.00328\n",
            "\n",
            "     Epoch   gpu_mem      GIoU       obj       cls     total   targets  img_size\n",
            "      1/19     7.74G      7.12      5.19         0      12.3         8       512: 100% 10/10 [00:08<00:00,  1.18it/s]\n",
            "               Class    Images   Targets         P         R   mAP@0.5        F1: 100% 10/10 [00:04<00:00,  2.23it/s]\n",
            "                 all       100       100         0         0  0.000919         0\n",
            "\n",
            "     Epoch   gpu_mem      GIoU       obj       cls     total   targets  img_size\n",
            "      2/19     7.75G      6.74      1.81         0      8.55        18       512: 100% 10/10 [00:08<00:00,  1.14it/s]\n",
            "               Class    Images   Targets         P         R   mAP@0.5        F1: 100% 10/10 [00:03<00:00,  3.06it/s]\n",
            "                 all       100       100         0         0     0.014         0\n",
            "\n",
            "     Epoch   gpu_mem      GIoU       obj       cls     total   targets  img_size\n",
            "      3/19     7.75G      6.19      1.93         0      8.12        13       512: 100% 10/10 [00:08<00:00,  1.11it/s]\n",
            "               Class    Images   Targets         P         R   mAP@0.5        F1: 100% 10/10 [00:02<00:00,  3.36it/s]\n",
            "                 all       100       100         0         0    0.0217         0\n",
            "\n",
            "     Epoch   gpu_mem      GIoU       obj       cls     total   targets  img_size\n",
            "      4/19     7.75G      5.44      2.13         0      7.57        14       512: 100% 10/10 [00:08<00:00,  1.15it/s]\n",
            "               Class    Images   Targets         P         R   mAP@0.5        F1: 100% 10/10 [00:02<00:00,  3.52it/s]\n",
            "                 all       100       100         0         0    0.0202         0\n",
            "\n",
            "     Epoch   gpu_mem      GIoU       obj       cls     total   targets  img_size\n",
            "      5/19     7.75G      5.27      1.83         0       7.1        11       512: 100% 10/10 [00:08<00:00,  1.17it/s]\n",
            "               Class    Images   Targets         P         R   mAP@0.5        F1: 100% 10/10 [00:02<00:00,  3.77it/s]\n",
            "                 all       100       100         1      0.01    0.0471    0.0198\n",
            "\n",
            "     Epoch   gpu_mem      GIoU       obj       cls     total   targets  img_size\n",
            "      6/19     7.75G       4.6      2.22         0      6.82        16       512: 100% 10/10 [00:08<00:00,  1.17it/s]\n",
            "               Class    Images   Targets         P         R   mAP@0.5        F1: 100% 10/10 [00:02<00:00,  3.87it/s]\n",
            "                 all       100       100         1      0.01     0.123    0.0198\n",
            "\n",
            "     Epoch   gpu_mem      GIoU       obj       cls     total   targets  img_size\n",
            "      7/19     7.75G      4.18      2.42         0       6.6        15       512: 100% 10/10 [00:08<00:00,  1.18it/s]\n",
            "               Class    Images   Targets         P         R   mAP@0.5        F1: 100% 10/10 [00:02<00:00,  3.82it/s]\n",
            "                 all       100       100         1      0.01      0.26    0.0198\n",
            "\n",
            "     Epoch   gpu_mem      GIoU       obj       cls     total   targets  img_size\n",
            "      8/19     7.75G      4.53      1.88         0      6.41        12       512: 100% 10/10 [00:08<00:00,  1.18it/s]\n",
            "               Class    Images   Targets         P         R   mAP@0.5        F1: 100% 10/10 [00:02<00:00,  3.67it/s]\n",
            "                 all       100       100         1      0.01      0.35    0.0198\n",
            "\n",
            "     Epoch   gpu_mem      GIoU       obj       cls     total   targets  img_size\n",
            "      9/19     7.75G       4.2      1.98         0      6.17        13       512: 100% 10/10 [00:08<00:00,  1.17it/s]\n",
            "               Class    Images   Targets         P         R   mAP@0.5        F1: 100% 10/10 [00:02<00:00,  3.67it/s]\n",
            "                 all       100       100         1      0.01     0.337    0.0198\n",
            "\n",
            "     Epoch   gpu_mem      GIoU       obj       cls     total   targets  img_size\n",
            "     10/19     7.75G      4.06      1.88         0      5.94        14       512: 100% 10/10 [00:08<00:00,  1.15it/s]\n",
            "               Class    Images   Targets         P         R   mAP@0.5        F1: 100% 10/10 [00:02<00:00,  3.42it/s]\n",
            "                 all       100       100         1      0.01     0.305    0.0198\n",
            "\n",
            "     Epoch   gpu_mem      GIoU       obj       cls     total   targets  img_size\n",
            "     11/19     7.75G       4.1      1.76         0      5.86        13       512: 100% 10/10 [00:08<00:00,  1.16it/s]\n",
            "               Class    Images   Targets         P         R   mAP@0.5        F1: 100% 10/10 [00:02<00:00,  3.39it/s]\n",
            "                 all       100       100         1      0.02      0.29    0.0392\n",
            "\n",
            "     Epoch   gpu_mem      GIoU       obj       cls     total   targets  img_size\n",
            "     12/19     7.75G      4.04      1.67         0      5.71        12       512: 100% 10/10 [00:08<00:00,  1.17it/s]\n",
            "               Class    Images   Targets         P         R   mAP@0.5        F1: 100% 10/10 [00:02<00:00,  3.51it/s]\n",
            "                 all       100       100     0.971      0.13      0.33     0.229\n",
            "\n",
            "     Epoch   gpu_mem      GIoU       obj       cls     total   targets  img_size\n",
            "     13/19     7.75G      4.16      1.38         0      5.54        14       512: 100% 10/10 [00:08<00:00,  1.15it/s]\n",
            "               Class    Images   Targets         P         R   mAP@0.5        F1: 100% 10/10 [00:02<00:00,  3.69it/s]\n",
            "                 all       100       100     0.756     0.186     0.325     0.298\n",
            "\n",
            "     Epoch   gpu_mem      GIoU       obj       cls     total   targets  img_size\n",
            "     14/19     7.75G      3.78      1.43         0      5.21        12       512: 100% 10/10 [00:08<00:00,  1.15it/s]\n",
            "               Class    Images   Targets         P         R   mAP@0.5        F1: 100% 10/10 [00:02<00:00,  3.70it/s]\n",
            "                 all       100       100     0.598      0.27     0.313     0.372\n",
            "\n",
            "     Epoch   gpu_mem      GIoU       obj       cls     total   targets  img_size\n",
            "     15/19     7.75G      3.22       1.2         0      4.42        14       512: 100% 10/10 [00:08<00:00,  1.17it/s]\n",
            "               Class    Images   Targets         P         R   mAP@0.5        F1: 100% 10/10 [00:02<00:00,  3.71it/s]\n",
            "                 all       100       100     0.572      0.31     0.351     0.402\n",
            "\n",
            "     Epoch   gpu_mem      GIoU       obj       cls     total   targets  img_size\n",
            "     16/19     7.75G      3.54      1.12         0      4.66        15       512: 100% 10/10 [00:08<00:00,  1.17it/s]\n",
            "               Class    Images   Targets         P         R   mAP@0.5        F1: 100% 10/10 [00:02<00:00,  3.72it/s]\n",
            "                 all       100       100     0.562      0.34     0.372     0.424\n",
            "\n",
            "     Epoch   gpu_mem      GIoU       obj       cls     total   targets  img_size\n",
            "     17/19     7.75G      3.25      1.15         0       4.4        16       512: 100% 10/10 [00:08<00:00,  1.17it/s]\n",
            "               Class    Images   Targets         P         R   mAP@0.5        F1: 100% 10/10 [00:02<00:00,  3.55it/s]\n",
            "                 all       100       100     0.524      0.35     0.389      0.42\n",
            "\n",
            "     Epoch   gpu_mem      GIoU       obj       cls     total   targets  img_size\n",
            "     18/19     7.75G       3.2      1.02         0      4.22        16       512: 100% 10/10 [00:08<00:00,  1.17it/s]\n",
            "               Class    Images   Targets         P         R   mAP@0.5        F1: 100% 10/10 [00:02<00:00,  3.52it/s]\n",
            "                 all       100       100     0.577      0.35       0.4     0.436\n",
            "\n",
            "     Epoch   gpu_mem      GIoU       obj       cls     total   targets  img_size\n",
            "     19/19     7.75G      3.41     0.935         0      4.34        11       512: 100% 10/10 [00:08<00:00,  1.17it/s]\n",
            "               Class    Images   Targets         P         R   mAP@0.5        F1: 100% 10/10 [00:02<00:00,  3.52it/s]\n",
            "                 all       100       100     0.562      0.35     0.409     0.431\n",
            "20 epochs completed in 0.067 hours.\n",
            "\n"
          ]
        }
      ]
    },
    {
      "cell_type": "markdown",
      "source": [
        "# test the model"
      ],
      "metadata": {
        "id": "xG8pehZLIIgr"
      }
    },
    {
      "cell_type": "code",
      "source": [
        "!python detect.py --weights weights/last.pt --source data/test_image"
      ],
      "metadata": {
        "colab": {
          "base_uri": "https://localhost:8080/"
        },
        "id": "jS-nMnBmT8NM",
        "outputId": "f9cc2f6b-eea9-49f0-a888-db43526c1503"
      },
      "execution_count": 8,
      "outputs": [
        {
          "output_type": "stream",
          "name": "stdout",
          "text": [
            "Namespace(cfg='cfg/yolov3-custom.cfg', names='data/customdata/custom.names', weights='weights/last.pt', source='data/test_image', output='output', img_size=512, conf_thres=0.3, iou_thres=0.6, fourcc='mp4v', half=False, device='', view_img=False, save_txt=False, classes=None, agnostic_nms=False, augment=False)\n",
            "Using CUDA device0 _CudaDeviceProperties(name='Tesla T4', total_memory=15102MB)\n",
            "\n",
            "Model Summary: 225 layers, 6.25733e+07 parameters, 6.25733e+07 gradients\n",
            "/usr/local/lib/python3.10/dist-packages/torch/functional.py:507: UserWarning: torch.meshgrid: in an upcoming release, it will be required to pass the indexing argument. (Triggered internally at ../aten/src/ATen/native/TensorShape.cpp:3549.)\n",
            "  return _VF.meshgrid(tensors, **kwargs)  # type: ignore[attr-defined]\n",
            "image 1/10 data/test_image/10.JPEG: 512x512 1 drones, Done. (0.041s)\n",
            "image 2/10 data/test_image/14.JPEG: 512x512 1 drones, Done. (0.041s)\n",
            "image 3/10 data/test_image/15.JPEG: 512x512 1 drones, Done. (0.041s)\n",
            "image 4/10 data/test_image/21.JPEG: 512x512 1 drones, Done. (0.041s)\n",
            "image 5/10 data/test_image/36.JPEG: 512x512 1 drones, Done. (0.034s)\n",
            "image 6/10 data/test_image/66.JPEG: 512x512 1 drones, Done. (0.027s)\n",
            "image 7/10 data/test_image/70.JPEG: 512x512 1 drones, Done. (0.027s)\n",
            "image 8/10 data/test_image/77.JPEG: 512x512 1 drones, Done. (0.027s)\n",
            "image 9/10 data/test_image/89.JPEG: 512x512 1 drones, Done. (0.027s)\n",
            "image 10/10 data/test_image/91.JPEG: 512x512 1 drones, Done. (0.023s)\n",
            "Results saved to /content/drive/MyDrive/ERA_V2/Assignment12/YoloV3/output\n",
            "Done. (1.407s)\n"
          ]
        }
      ]
    }
  ],
  "metadata": {
    "colab": {
      "provenance": [],
      "gpuType": "T4"
    },
    "kernelspec": {
      "display_name": "Python 3",
      "name": "python3"
    },
    "language_info": {
      "name": "python"
    },
    "accelerator": "GPU"
  },
  "nbformat": 4,
  "nbformat_minor": 0
}