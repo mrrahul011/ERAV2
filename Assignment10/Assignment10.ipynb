{
  "cells": [
    {
      "cell_type": "code",
      "execution_count": null,
      "metadata": {
        "colab": {
          "base_uri": "https://localhost:8080/"
        },
        "id": "X09AIq4qHSO2",
        "outputId": "943654a8-2f12-469b-bc74-8b8bae533e54"
      },
      "outputs": [
        {
          "name": "stdout",
          "output_type": "stream",
          "text": [
            "Mounted at /content/drive\n"
          ]
        }
      ],
      "source": [
        "from google.colab import drive\n",
        "drive.mount('/content/drive')"
      ]
    },
    {
      "cell_type": "code",
      "execution_count": null,
      "metadata": {
        "id": "uLeBQMUoIhUN"
      },
      "outputs": [],
      "source": [
        "import os\n",
        "os.chdir('/content/drive/MyDrive/ERA_V2/Assignment10')"
      ]
    },
    {
      "cell_type": "code",
      "execution_count": null,
      "metadata": {
        "id": "goVq9qZJLvlO"
      },
      "outputs": [],
      "source": [
        "# Import necessary modules\n",
        "from network import MyNet\n",
        "from data_loader import get_cifar10_dataloaders\n",
        "from train_test import train, test\n",
        "import torch\n",
        "import torch.optim as optim\n",
        "import torch.nn as nn\n"
      ]
    },
    {
      "cell_type": "code",
      "execution_count": null,
      "metadata": {
        "colab": {
          "base_uri": "https://localhost:8080/"
        },
        "id": "vXZaZaUzL2m0",
        "outputId": "eab2197a-cda9-4631-c35f-d3c291d134d9"
      },
      "outputs": [
        {
          "name": "stdout",
          "output_type": "stream",
          "text": [
            "Requirement already satisfied: torchsummary in /usr/local/lib/python3.10/dist-packages (1.5.1)\n",
            "----------------------------------------------------------------\n",
            "        Layer (type)               Output Shape         Param #\n",
            "================================================================\n",
            "            Conv2d-1           [-1, 64, 32, 32]           1,792\n",
            "       BatchNorm2d-2           [-1, 64, 32, 32]             128\n",
            "              ReLU-3           [-1, 64, 32, 32]               0\n",
            "            Conv2d-4          [-1, 128, 32, 32]          73,856\n",
            "         MaxPool2d-5          [-1, 128, 16, 16]               0\n",
            "       BatchNorm2d-6          [-1, 128, 16, 16]             256\n",
            "              ReLU-7          [-1, 128, 16, 16]               0\n",
            "            Conv2d-8          [-1, 128, 16, 16]         147,584\n",
            "       BatchNorm2d-9          [-1, 128, 16, 16]             256\n",
            "             ReLU-10          [-1, 128, 16, 16]               0\n",
            "           Conv2d-11          [-1, 128, 16, 16]         147,584\n",
            "      BatchNorm2d-12          [-1, 128, 16, 16]             256\n",
            "             ReLU-13          [-1, 128, 16, 16]               0\n",
            "         ResBlock-14          [-1, 128, 16, 16]               0\n",
            "           Conv2d-15          [-1, 256, 16, 16]         295,168\n",
            "        MaxPool2d-16            [-1, 256, 8, 8]               0\n",
            "      BatchNorm2d-17            [-1, 256, 8, 8]             512\n",
            "             ReLU-18            [-1, 256, 8, 8]               0\n",
            "           Conv2d-19            [-1, 512, 8, 8]       1,180,160\n",
            "        MaxPool2d-20            [-1, 512, 4, 4]               0\n",
            "      BatchNorm2d-21            [-1, 512, 4, 4]           1,024\n",
            "             ReLU-22            [-1, 512, 4, 4]               0\n",
            "           Conv2d-23            [-1, 512, 4, 4]       2,359,808\n",
            "      BatchNorm2d-24            [-1, 512, 4, 4]           1,024\n",
            "             ReLU-25            [-1, 512, 4, 4]               0\n",
            "           Conv2d-26            [-1, 512, 4, 4]       2,359,808\n",
            "      BatchNorm2d-27            [-1, 512, 4, 4]           1,024\n",
            "             ReLU-28            [-1, 512, 4, 4]               0\n",
            "         ResBlock-29            [-1, 512, 4, 4]               0\n",
            "           Linear-30                   [-1, 10]           5,130\n",
            "================================================================\n",
            "Total params: 6,575,370\n",
            "Trainable params: 6,575,370\n",
            "Non-trainable params: 0\n",
            "----------------------------------------------------------------\n",
            "Input size (MB): 0.01\n",
            "Forward/backward pass size (MB): 6.75\n",
            "Params size (MB): 25.08\n",
            "Estimated Total Size (MB): 31.84\n",
            "----------------------------------------------------------------\n"
          ]
        }
      ],
      "source": [
        "# Initialize the network\n",
        "net = MyNet()\n",
        "\n",
        "!pip install torchsummary\n",
        "from torchsummary import summary\n",
        "# Initialize the network\n",
        "net = MyNet()\n",
        "device = torch.device(\"cuda\" if torch.cuda.is_available() else \"cpu\")\n",
        "net.to(device)\n",
        "\n",
        "# Print the summary\n",
        "summary(net, (3, 32, 32))"
      ]
    },
    {
      "cell_type": "code",
      "execution_count": null,
      "metadata": {
        "colab": {
          "base_uri": "https://localhost:8080/"
        },
        "id": "SxlzS3LvMCjk",
        "outputId": "83d680ea-5091-4dee-e48a-4973d392bb11"
      },
      "outputs": [
        {
          "name": "stdout",
          "output_type": "stream",
          "text": [
            "Files already downloaded and verified\n",
            "Files already downloaded and verified\n"
          ]
        }
      ],
      "source": [
        "# Get data loaders\n",
        "trainloader, testloader = get_cifar10_dataloaders()"
      ]
    },
    {
      "cell_type": "code",
      "execution_count": null,
      "metadata": {
        "colab": {
          "base_uri": "https://localhost:8080/"
        },
        "id": "v_nE8SwkbEIV",
        "outputId": "f0044f6f-bec6-443e-9ac3-8ffa5ccc010d"
      },
      "outputs": [
        {
          "name": "stdout",
          "output_type": "stream",
          "text": [
            "Requirement already satisfied: torch-lr-finder in /usr/local/lib/python3.10/dist-packages (0.2.1)\n",
            "Requirement already satisfied: matplotlib in /usr/local/lib/python3.10/dist-packages (from torch-lr-finder) (3.7.1)\n",
            "Requirement already satisfied: numpy in /usr/local/lib/python3.10/dist-packages (from torch-lr-finder) (1.25.2)\n",
            "Requirement already satisfied: torch>=0.4.1 in /usr/local/lib/python3.10/dist-packages (from torch-lr-finder) (2.2.1+cu121)\n",
            "Requirement already satisfied: tqdm in /usr/local/lib/python3.10/dist-packages (from torch-lr-finder) (4.66.2)\n",
            "Requirement already satisfied: packaging in /usr/local/lib/python3.10/dist-packages (from torch-lr-finder) (24.0)\n",
            "Requirement already satisfied: filelock in /usr/local/lib/python3.10/dist-packages (from torch>=0.4.1->torch-lr-finder) (3.13.3)\n",
            "Requirement already satisfied: typing-extensions>=4.8.0 in /usr/local/lib/python3.10/dist-packages (from torch>=0.4.1->torch-lr-finder) (4.10.0)\n",
            "Requirement already satisfied: sympy in /usr/local/lib/python3.10/dist-packages (from torch>=0.4.1->torch-lr-finder) (1.12)\n",
            "Requirement already satisfied: networkx in /usr/local/lib/python3.10/dist-packages (from torch>=0.4.1->torch-lr-finder) (3.2.1)\n",
            "Requirement already satisfied: jinja2 in /usr/local/lib/python3.10/dist-packages (from torch>=0.4.1->torch-lr-finder) (3.1.3)\n",
            "Requirement already satisfied: fsspec in /usr/local/lib/python3.10/dist-packages (from torch>=0.4.1->torch-lr-finder) (2023.6.0)\n",
            "Requirement already satisfied: nvidia-cuda-nvrtc-cu12==12.1.105 in /usr/local/lib/python3.10/dist-packages (from torch>=0.4.1->torch-lr-finder) (12.1.105)\n",
            "Requirement already satisfied: nvidia-cuda-runtime-cu12==12.1.105 in /usr/local/lib/python3.10/dist-packages (from torch>=0.4.1->torch-lr-finder) (12.1.105)\n",
            "Requirement already satisfied: nvidia-cuda-cupti-cu12==12.1.105 in /usr/local/lib/python3.10/dist-packages (from torch>=0.4.1->torch-lr-finder) (12.1.105)\n",
            "Requirement already satisfied: nvidia-cudnn-cu12==8.9.2.26 in /usr/local/lib/python3.10/dist-packages (from torch>=0.4.1->torch-lr-finder) (8.9.2.26)\n",
            "Requirement already satisfied: nvidia-cublas-cu12==12.1.3.1 in /usr/local/lib/python3.10/dist-packages (from torch>=0.4.1->torch-lr-finder) (12.1.3.1)\n",
            "Requirement already satisfied: nvidia-cufft-cu12==11.0.2.54 in /usr/local/lib/python3.10/dist-packages (from torch>=0.4.1->torch-lr-finder) (11.0.2.54)\n",
            "Requirement already satisfied: nvidia-curand-cu12==10.3.2.106 in /usr/local/lib/python3.10/dist-packages (from torch>=0.4.1->torch-lr-finder) (10.3.2.106)\n",
            "Requirement already satisfied: nvidia-cusolver-cu12==11.4.5.107 in /usr/local/lib/python3.10/dist-packages (from torch>=0.4.1->torch-lr-finder) (11.4.5.107)\n",
            "Requirement already satisfied: nvidia-cusparse-cu12==12.1.0.106 in /usr/local/lib/python3.10/dist-packages (from torch>=0.4.1->torch-lr-finder) (12.1.0.106)\n",
            "Requirement already satisfied: nvidia-nccl-cu12==2.19.3 in /usr/local/lib/python3.10/dist-packages (from torch>=0.4.1->torch-lr-finder) (2.19.3)\n",
            "Requirement already satisfied: nvidia-nvtx-cu12==12.1.105 in /usr/local/lib/python3.10/dist-packages (from torch>=0.4.1->torch-lr-finder) (12.1.105)\n",
            "Requirement already satisfied: triton==2.2.0 in /usr/local/lib/python3.10/dist-packages (from torch>=0.4.1->torch-lr-finder) (2.2.0)\n",
            "Requirement already satisfied: nvidia-nvjitlink-cu12 in /usr/local/lib/python3.10/dist-packages (from nvidia-cusolver-cu12==11.4.5.107->torch>=0.4.1->torch-lr-finder) (12.4.99)\n",
            "Requirement already satisfied: contourpy>=1.0.1 in /usr/local/lib/python3.10/dist-packages (from matplotlib->torch-lr-finder) (1.2.0)\n",
            "Requirement already satisfied: cycler>=0.10 in /usr/local/lib/python3.10/dist-packages (from matplotlib->torch-lr-finder) (0.12.1)\n",
            "Requirement already satisfied: fonttools>=4.22.0 in /usr/local/lib/python3.10/dist-packages (from matplotlib->torch-lr-finder) (4.50.0)\n",
            "Requirement already satisfied: kiwisolver>=1.0.1 in /usr/local/lib/python3.10/dist-packages (from matplotlib->torch-lr-finder) (1.4.5)\n",
            "Requirement already satisfied: pillow>=6.2.0 in /usr/local/lib/python3.10/dist-packages (from matplotlib->torch-lr-finder) (9.4.0)\n",
            "Requirement already satisfied: pyparsing>=2.3.1 in /usr/local/lib/python3.10/dist-packages (from matplotlib->torch-lr-finder) (3.1.2)\n",
            "Requirement already satisfied: python-dateutil>=2.7 in /usr/local/lib/python3.10/dist-packages (from matplotlib->torch-lr-finder) (2.8.2)\n",
            "Requirement already satisfied: six>=1.5 in /usr/local/lib/python3.10/dist-packages (from python-dateutil>=2.7->matplotlib->torch-lr-finder) (1.16.0)\n",
            "Requirement already satisfied: MarkupSafe>=2.0 in /usr/local/lib/python3.10/dist-packages (from jinja2->torch>=0.4.1->torch-lr-finder) (2.1.5)\n",
            "Requirement already satisfied: mpmath>=0.19 in /usr/local/lib/python3.10/dist-packages (from sympy->torch>=0.4.1->torch-lr-finder) (1.3.0)\n"
          ]
        }
      ],
      "source": [
        "!pip install torch-lr-finder"
      ]
    },
    {
      "cell_type": "code",
      "execution_count": null,
      "metadata": {
        "colab": {
          "base_uri": "https://localhost:8080/",
          "height": 557,
          "referenced_widgets": [
            "1ffba40cf24a4e4380bde90f06c653e3",
            "d5ad04732d234f3998b3cad8e7ba6289",
            "4913535f5519468a9b15128c10860878",
            "4b87e1cc15c34dd19dcaa8861c76b4e7",
            "403fbb888be24fe5807d5a964b316544",
            "26c1cc2cca4a49a581213feefa8e076d",
            "d642c021f5c14c79a0714de51f2b786b",
            "e1cbea249c4f4f139aa78f10e027b1ac",
            "3113229b08bc445fbc90fccc2e1e940c",
            "a727d73d5d8647439c6a563862cd233c",
            "a9dd83c4cc744cab941135c919057507"
          ]
        },
        "id": "0qzX7fVrWnSK",
        "outputId": "f78f35ae-9dd3-448d-9481-a6b32ac43cd3"
      },
      "outputs": [
        {
          "data": {
            "application/vnd.jupyter.widget-view+json": {
              "model_id": "1ffba40cf24a4e4380bde90f06c653e3",
              "version_major": 2,
              "version_minor": 0
            },
            "text/plain": [
              "  0%|          | 0/100 [00:00<?, ?it/s]"
            ]
          },
          "metadata": {},
          "output_type": "display_data"
        },
        {
          "name": "stdout",
          "output_type": "stream",
          "text": [
            "Stopping early, the loss has diverged\n",
            "Learning rate search finished. See the graph with {finder_name}.plot()\n",
            "LR suggestion: steepest gradient\n",
            "Suggested LR: 2.31E-03\n"
          ]
        },
        {
          "data": {
            "image/png": "[encoded data removed]",
            "text/plain": [
              "<Figure size 640x480 with 1 Axes>"
            ]
          },
          "metadata": {},
          "output_type": "display_data"
        }
      ],
      "source": [
        "criterion = nn.CrossEntropyLoss()\n",
        "\n",
        "from torch_lr_finder import LRFinder\n",
        "# Define LR finder\n",
        "optimizer = optim.Adam(net.parameters(), lr=1e-7, weight_decay=1e-2)\n",
        "lr_finder = LRFinder(net, optimizer, criterion, device=\"cuda\")\n",
        "lr_finder.range_test(trainloader, end_lr=100, num_iter=100,step_mode=\"exp\")\n",
        "lr_finder.plot()  # Inspect the loss-learning rate graph\n",
        "lr_finder.reset()  # Reset the model and optimizer to their initial state"
      ]
    },
    {
      "cell_type": "code",
      "execution_count": null,
      "metadata": {
        "id": "Niuyk7ZObC36"
      },
      "outputs": [],
      "source": [
        "#LRMIN and LRMAX\n",
        "lr_min = 2.31e-04\n",
        "lr_max = 2.31e-03"
      ]
    },
    {
      "cell_type": "code",
      "execution_count": null,
      "metadata": {
        "colab": {
          "base_uri": "https://localhost:8080/"
        },
        "id": "yX4ZRHxKb4LU",
        "outputId": "8a737c6b-bebc-4e13-aaa3-ce117d746273"
      },
      "outputs": [
        {
          "data": {
            "text/plain": [
              "MyNet(\n",
              "  (preplayer): Sequential(\n",
              "    (0): Conv2d(3, 64, kernel_size=(3, 3), stride=(1, 1), padding=(1, 1))\n",
              "    (1): BatchNorm2d(64, eps=1e-05, momentum=0.1, affine=True, track_running_stats=True)\n",
              "    (2): ReLU(inplace=True)\n",
              "  )\n",
              "  (layer1): Sequential(\n",
              "    (0): Conv2d(64, 128, kernel_size=(3, 3), stride=(1, 1), padding=(1, 1))\n",
              "    (1): MaxPool2d(kernel_size=2, stride=2, padding=0, dilation=1, ceil_mode=False)\n",
              "    (2): BatchNorm2d(128, eps=1e-05, momentum=0.1, affine=True, track_running_stats=True)\n",
              "    (3): ReLU(inplace=True)\n",
              "  )\n",
              "  (resblock1): ResBlock(\n",
              "    (conv1): Conv2d(128, 128, kernel_size=(3, 3), stride=(1, 1), padding=(1, 1))\n",
              "    (bn1): BatchNorm2d(128, eps=1e-05, momentum=0.1, affine=True, track_running_stats=True)\n",
              "    (relu): ReLU(inplace=True)\n",
              "    (conv2): Conv2d(128, 128, kernel_size=(3, 3), stride=(1, 1), padding=(1, 1))\n",
              "    (bn2): BatchNorm2d(128, eps=1e-05, momentum=0.1, affine=True, track_running_stats=True)\n",
              "  )\n",
              "  (layer2): Sequential(\n",
              "    (0): Conv2d(128, 256, kernel_size=(3, 3), stride=(1, 1), padding=(1, 1))\n",
              "    (1): MaxPool2d(kernel_size=2, stride=2, padding=0, dilation=1, ceil_mode=False)\n",
              "    (2): BatchNorm2d(256, eps=1e-05, momentum=0.1, affine=True, track_running_stats=True)\n",
              "    (3): ReLU(inplace=True)\n",
              "  )\n",
              "  (layer3): Sequential(\n",
              "    (0): Conv2d(256, 512, kernel_size=(3, 3), stride=(1, 1), padding=(1, 1))\n",
              "    (1): MaxPool2d(kernel_size=2, stride=2, padding=0, dilation=1, ceil_mode=False)\n",
              "    (2): BatchNorm2d(512, eps=1e-05, momentum=0.1, affine=True, track_running_stats=True)\n",
              "    (3): ReLU(inplace=True)\n",
              "  )\n",
              "  (resblock2): ResBlock(\n",
              "    (conv1): Conv2d(512, 512, kernel_size=(3, 3), stride=(1, 1), padding=(1, 1))\n",
              "    (bn1): BatchNorm2d(512, eps=1e-05, momentum=0.1, affine=True, track_running_stats=True)\n",
              "    (relu): ReLU(inplace=True)\n",
              "    (conv2): Conv2d(512, 512, kernel_size=(3, 3), stride=(1, 1), padding=(1, 1))\n",
              "    (bn2): BatchNorm2d(512, eps=1e-05, momentum=0.1, affine=True, track_running_stats=True)\n",
              "  )\n",
              "  (fc): Linear(in_features=512, out_features=10, bias=True)\n",
              ")"
            ]
          },
          "execution_count": 18,
          "metadata": {},
          "output_type": "execute_result"
        }
      ],
      "source": [
        "# Train the model with LRMIN and LRMAX\n",
        "optimizer = optim.Adam(net.parameters(), lr=lr_max, weight_decay=1e-2)\n",
        "scheduler = torch.optim.lr_scheduler.OneCycleLR(optimizer, max_lr=lr_max, total_steps=len(trainloader)*24, epochs=24, steps_per_epoch=len(trainloader), pct_start=5/24, anneal_strategy='linear')\n",
        "device = torch.device(\"cuda\" if torch.cuda.is_available() else \"cpu\")\n",
        "net.to(device)"
      ]
    },
    {
      "cell_type": "code",
      "execution_count": null,
      "metadata": {
        "colab": {
          "base_uri": "https://localhost:8080/"
        },
        "id": "kXJ0iO1GMuYS",
        "outputId": "5d893752-f5a4-4041-d342-4351ee7faac7"
      },
      "outputs": [
        {
          "name": "stdout",
          "output_type": "stream",
          "text": [
            "Epoch 1/24, Train Loss: 2.4373181669079527, Train Accuracy: 23.858\n",
            "Test Accuracy after epoch 1: 36.19\n",
            "Epoch 2/24, Train Loss: 1.6077074213903777, Train Accuracy: 45.712\n",
            "Test Accuracy after epoch 2: 45.33\n",
            "Epoch 3/24, Train Loss: 1.2458338859129925, Train Accuracy: 59.092\n",
            "Test Accuracy after epoch 3: 48.74\n",
            "Epoch 4/24, Train Loss: 0.8531197996772065, Train Accuracy: 70.932\n",
            "Test Accuracy after epoch 4: 72.63\n",
            "Epoch 5/24, Train Loss: 0.6825495404856545, Train Accuracy: 76.468\n",
            "Test Accuracy after epoch 5: 70.14\n",
            "Epoch 6/24, Train Loss: 0.6251476178972089, Train Accuracy: 78.436\n",
            "Test Accuracy after epoch 6: 77.95\n",
            "Epoch 7/24, Train Loss: 0.5752327357019696, Train Accuracy: 80.134\n",
            "Test Accuracy after epoch 7: 69.65\n",
            "Epoch 8/24, Train Loss: 0.51572378527145, Train Accuracy: 82.246\n",
            "Test Accuracy after epoch 8: 78.22\n",
            "Test Accuracy after epoch 9: 74.65\n",
            "Epoch 10/24, Train Loss: 0.4327098304519848, Train Accuracy: 85.176\n",
            "Test Accuracy after epoch 10: 81.39\n",
            "Epoch 11/24, Train Loss: 0.3997848085602935, Train Accuracy: 86.332\n",
            "Test Accuracy after epoch 11: 77.39\n",
            "Epoch 12/24, Train Loss: 0.36073403303720514, Train Accuracy: 87.568\n",
            "Test Accuracy after epoch 12: 85.15\n",
            "Epoch 13/24, Train Loss: 0.32699042649901644, Train Accuracy: 88.698\n",
            "Test Accuracy after epoch 13: 84.16\n",
            "Epoch 14/24, Train Loss: 0.2955520802310535, Train Accuracy: 89.886\n",
            "Test Accuracy after epoch 14: 83.88\n",
            "Epoch 15/24, Train Loss: 0.2772308741601146, Train Accuracy: 90.448\n",
            "Test Accuracy after epoch 15: 85.36\n",
            "Epoch 16/24, Train Loss: 0.23649029068800867, Train Accuracy: 91.87\n",
            "Test Accuracy after epoch 16: 86.85\n",
            "Epoch 17/24, Train Loss: 0.19390450934974515, Train Accuracy: 93.29\n",
            "Test Accuracy after epoch 17: 87.03\n",
            "Epoch 18/24, Train Loss: 0.1724307715740739, Train Accuracy: 94.01\n",
            "Test Accuracy after epoch 18: 88.63\n",
            "Epoch 19/24, Train Loss: 0.14238832837768964, Train Accuracy: 95.028\n",
            "Test Accuracy after epoch 19: 89.51\n",
            "Epoch 20/24, Train Loss: 0.12152472085186414, Train Accuracy: 95.678\n",
            "Test Accuracy after epoch 20: 89.78\n",
            "Epoch 21/24, Train Loss: 0.09892486472975234, Train Accuracy: 96.52\n",
            "Test Accuracy after epoch 21: 90.24\n",
            "Epoch 22/24, Train Loss: 0.08115727940992433, Train Accuracy: 97.148\n",
            "Test Accuracy after epoch 22: 90.3\n",
            "Epoch 23/24, Train Loss: 0.07448403598094473, Train Accuracy: 97.502\n",
            "Test Accuracy after epoch 23: 90.43\n",
            "Epoch 24/24, Train Loss: 0.06855361425907028, Train Accuracy: 97.72\n",
            "Test Accuracy after epoch 24: 90.48\n"
          ]
        }
      ],
      "source": [
        "# Train the model\n",
        "device = torch.device(\"cuda\" if torch.cuda.is_available() else \"cpu\")\n",
        "net.to(device)\n",
        "for epoch in range(24):  # loop over the dataset multiple times\n",
        "    train_loss, train_accuracy = train(net, trainloader, criterion, optimizer, scheduler, device)\n",
        "    print(f\"Epoch {epoch+1}/{24}, Train Loss: {train_loss}, Train Accuracy: {train_accuracy}\")\n",
        "\n",
        "    # Test the model\n",
        "    test_accuracy = test(net, testloader, criterion, device)\n",
        "    print(f\"Test Accuracy after epoch {epoch+1}: {test_accuracy}\")\n"
      ]
    },
    {
      "cell_type": "code",
      "execution_count": null,
      "metadata": {
        "id": "lZgxKKuQQzJ4"
      },
      "outputs": [],
      "source": []
    }
  ],
  "metadata": {
    "accelerator": "GPU",
    "colab": {
      "gpuType": "T4",
      "provenance": []
    },
    "kernelspec": {
      "display_name": "Python 3",
      "name": "python3"
    },
    "language_info": {
      "name": "python"
    },
    "widgets": {
      "application/vnd.jupyter.widget-state+json": {
        "1ffba40cf24a4e4380bde90f06c653e3": {
          "model_module": "@jupyter-widgets/controls",
          "model_module_version": "1.5.0",
          "model_name": "HBoxModel",
          "state": {
            "_dom_classes": [],
            "_model_module": "@jupyter-widgets/controls",
            "_model_module_version": "1.5.0",
            "_model_name": "HBoxModel",
            "_view_count": null,
            "_view_module": "@jupyter-widgets/controls",
            "_view_module_version": "1.5.0",
            "_view_name": "HBoxView",
            "box_style": "",
            "children": [
              "IPY_MODEL_d5ad04732d234f3998b3cad8e7ba6289",
              "IPY_MODEL_4913535f5519468a9b15128c10860878",
              "IPY_MODEL_4b87e1cc15c34dd19dcaa8861c76b4e7"
            ],
            "layout": "IPY_MODEL_403fbb888be24fe5807d5a964b316544"
          }
        },
        "26c1cc2cca4a49a581213feefa8e076d": {
          "model_module": "@jupyter-widgets/base",
          "model_module_version": "1.2.0",
          "model_name": "LayoutModel",
          "state": {
            "_model_module": "@jupyter-widgets/base",
            "_model_module_version": "1.2.0",
            "_model_name": "LayoutModel",
            "_view_count": null,
            "_view_module": "@jupyter-widgets/base",
            "_view_module_version": "1.2.0",
            "_view_name": "LayoutView",
            "align_content": null,
            "align_items": null,
            "align_self": null,
            "border": null,
            "bottom": null,
            "display": null,
            "flex": null,
            "flex_flow": null,
            "grid_area": null,
            "grid_auto_columns": null,
            "grid_auto_flow": null,
            "grid_auto_rows": null,
            "grid_column": null,
            "grid_gap": null,
            "grid_row": null,
            "grid_template_areas": null,
            "grid_template_columns": null,
            "grid_template_rows": null,
            "height": null,
            "justify_content": null,
            "justify_items": null,
            "left": null,
            "margin": null,
            "max_height": null,
            "max_width": null,
            "min_height": null,
            "min_width": null,
            "object_fit": null,
            "object_position": null,
            "order": null,
            "overflow": null,
            "overflow_x": null,
            "overflow_y": null,
            "padding": null,
            "right": null,
            "top": null,
            "visibility": null,
            "width": null
          }
        },
        "3113229b08bc445fbc90fccc2e1e940c": {
          "model_module": "@jupyter-widgets/controls",
          "model_module_version": "1.5.0",
          "model_name": "ProgressStyleModel",
          "state": {
            "_model_module": "@jupyter-widgets/controls",
            "_model_module_version": "1.5.0",
            "_model_name": "ProgressStyleModel",
            "_view_count": null,
            "_view_module": "@jupyter-widgets/base",
            "_view_module_version": "1.2.0",
            "_view_name": "StyleView",
            "bar_color": null,
            "description_width": ""
          }
        },
        "403fbb888be24fe5807d5a964b316544": {
          "model_module": "@jupyter-widgets/base",
          "model_module_version": "1.2.0",
          "model_name": "LayoutModel",
          "state": {
            "_model_module": "@jupyter-widgets/base",
            "_model_module_version": "1.2.0",
            "_model_name": "LayoutModel",
            "_view_count": null,
            "_view_module": "@jupyter-widgets/base",
            "_view_module_version": "1.2.0",
            "_view_name": "LayoutView",
            "align_content": null,
            "align_items": null,
            "align_self": null,
            "border": null,
            "bottom": null,
            "display": null,
            "flex": null,
            "flex_flow": null,
            "grid_area": null,
            "grid_auto_columns": null,
            "grid_auto_flow": null,
            "grid_auto_rows": null,
            "grid_column": null,
            "grid_gap": null,
            "grid_row": null,
            "grid_template_areas": null,
            "grid_template_columns": null,
            "grid_template_rows": null,
            "height": null,
            "justify_content": null,
            "justify_items": null,
            "left": null,
            "margin": null,
            "max_height": null,
            "max_width": null,
            "min_height": null,
            "min_width": null,
            "object_fit": null,
            "object_position": null,
            "order": null,
            "overflow": null,
            "overflow_x": null,
            "overflow_y": null,
            "padding": null,
            "right": null,
            "top": null,
            "visibility": null,
            "width": null
          }
        },
        "4913535f5519468a9b15128c10860878": {
          "model_module": "@jupyter-widgets/controls",
          "model_module_version": "1.5.0",
          "model_name": "FloatProgressModel",
          "state": {
            "_dom_classes": [],
            "_model_module": "@jupyter-widgets/controls",
            "_model_module_version": "1.5.0",
            "_model_name": "FloatProgressModel",
            "_view_count": null,
            "_view_module": "@jupyter-widgets/controls",
            "_view_module_version": "1.5.0",
            "_view_name": "ProgressView",
            "bar_style": "danger",
            "description": "",
            "description_tooltip": null,
            "layout": "IPY_MODEL_e1cbea249c4f4f139aa78f10e027b1ac",
            "max": 100,
            "min": 0,
            "orientation": "horizontal",
            "style": "IPY_MODEL_3113229b08bc445fbc90fccc2e1e940c",
            "value": 77
          }
        },
        "4b87e1cc15c34dd19dcaa8861c76b4e7": {
          "model_module": "@jupyter-widgets/controls",
          "model_module_version": "1.5.0",
          "model_name": "HTMLModel",
          "state": {
            "_dom_classes": [],
            "_model_module": "@jupyter-widgets/controls",
            "_model_module_version": "1.5.0",
            "_model_name": "HTMLModel",
            "_view_count": null,
            "_view_module": "@jupyter-widgets/controls",
            "_view_module_version": "1.5.0",
            "_view_name": "HTMLView",
            "description": "",
            "description_tooltip": null,
            "layout": "IPY_MODEL_a727d73d5d8647439c6a563862cd233c",
            "placeholder": "​",
            "style": "IPY_MODEL_a9dd83c4cc744cab941135c919057507",
            "value": " 77/100 [00:20&lt;00:05,  4.07it/s]"
          }
        },
        "a727d73d5d8647439c6a563862cd233c": {
          "model_module": "@jupyter-widgets/base",
          "model_module_version": "1.2.0",
          "model_name": "LayoutModel",
          "state": {
            "_model_module": "@jupyter-widgets/base",
            "_model_module_version": "1.2.0",
            "_model_name": "LayoutModel",
            "_view_count": null,
            "_view_module": "@jupyter-widgets/base",
            "_view_module_version": "1.2.0",
            "_view_name": "LayoutView",
            "align_content": null,
            "align_items": null,
            "align_self": null,
            "border": null,
            "bottom": null,
            "display": null,
            "flex": null,
            "flex_flow": null,
            "grid_area": null,
            "grid_auto_columns": null,
            "grid_auto_flow": null,
            "grid_auto_rows": null,
            "grid_column": null,
            "grid_gap": null,
            "grid_row": null,
            "grid_template_areas": null,
            "grid_template_columns": null,
            "grid_template_rows": null,
            "height": null,
            "justify_content": null,
            "justify_items": null,
            "left": null,
            "margin": null,
            "max_height": null,
            "max_width": null,
            "min_height": null,
            "min_width": null,
            "object_fit": null,
            "object_position": null,
            "order": null,
            "overflow": null,
            "overflow_x": null,
            "overflow_y": null,
            "padding": null,
            "right": null,
            "top": null,
            "visibility": null,
            "width": null
          }
        },
        "a9dd83c4cc744cab941135c919057507": {
          "model_module": "@jupyter-widgets/controls",
          "model_module_version": "1.5.0",
          "model_name": "DescriptionStyleModel",
          "state": {
            "_model_module": "@jupyter-widgets/controls",
            "_model_module_version": "1.5.0",
            "_model_name": "DescriptionStyleModel",
            "_view_count": null,
            "_view_module": "@jupyter-widgets/base",
            "_view_module_version": "1.2.0",
            "_view_name": "StyleView",
            "description_width": ""
          }
        },
        "d5ad04732d234f3998b3cad8e7ba6289": {
          "model_module": "@jupyter-widgets/controls",
          "model_module_version": "1.5.0",
          "model_name": "HTMLModel",
          "state": {
            "_dom_classes": [],
            "_model_module": "@jupyter-widgets/controls",
            "_model_module_version": "1.5.0",
            "_model_name": "HTMLModel",
            "_view_count": null,
            "_view_module": "@jupyter-widgets/controls",
            "_view_module_version": "1.5.0",
            "_view_name": "HTMLView",
            "description": "",
            "description_tooltip": null,
            "layout": "IPY_MODEL_26c1cc2cca4a49a581213feefa8e076d",
            "placeholder": "​",
            "style": "IPY_MODEL_d642c021f5c14c79a0714de51f2b786b",
            "value": " 77%"
          }
        },
        "d642c021f5c14c79a0714de51f2b786b": {
          "model_module": "@jupyter-widgets/controls",
          "model_module_version": "1.5.0",
          "model_name": "DescriptionStyleModel",
          "state": {
            "_model_module": "@jupyter-widgets/controls",
            "_model_module_version": "1.5.0",
            "_model_name": "DescriptionStyleModel",
            "_view_count": null,
            "_view_module": "@jupyter-widgets/base",
            "_view_module_version": "1.2.0",
            "_view_name": "StyleView",
            "description_width": ""
          }
        },
        "e1cbea249c4f4f139aa78f10e027b1ac": {
          "model_module": "@jupyter-widgets/base",
          "model_module_version": "1.2.0",
          "model_name": "LayoutModel",
          "state": {
            "_model_module": "@jupyter-widgets/base",
            "_model_module_version": "1.2.0",
            "_model_name": "LayoutModel",
            "_view_count": null,
            "_view_module": "@jupyter-widgets/base",
            "_view_module_version": "1.2.0",
            "_view_name": "LayoutView",
            "align_content": null,
            "align_items": null,
            "align_self": null,
            "border": null,
            "bottom": null,
            "display": null,
            "flex": null,
            "flex_flow": null,
            "grid_area": null,
            "grid_auto_columns": null,
            "grid_auto_flow": null,
            "grid_auto_rows": null,
            "grid_column": null,
            "grid_gap": null,
            "grid_row": null,
            "grid_template_areas": null,
            "grid_template_columns": null,
            "grid_template_rows": null,
            "height": null,
            "justify_content": null,
            "justify_items": null,
            "left": null,
            "margin": null,
            "max_height": null,
            "max_width": null,
            "min_height": null,
            "min_width": null,
            "object_fit": null,
            "object_position": null,
            "order": null,
            "overflow": null,
            "overflow_x": null,
            "overflow_y": null,
            "padding": null,
            "right": null,
            "top": null,
            "visibility": null,
            "width": null
          }
        }
      }
    }
  },
  "nbformat": 4,
  "nbformat_minor": 0
}